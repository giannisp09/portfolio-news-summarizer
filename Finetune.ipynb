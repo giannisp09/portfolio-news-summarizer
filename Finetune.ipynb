{
 "cells": [
  {
   "cell_type": "code",
   "execution_count": null,
   "metadata": {
    "colab": {
     "base_uri": "https://localhost:8080/"
    },
    "executionInfo": {
     "elapsed": 25430,
     "status": "ok",
     "timestamp": 1747415201366,
     "user": {
      "displayName": "Giannis Pastellas",
      "userId": "07288953992510669495"
     },
     "user_tz": -180
    },
    "id": "NY-qWQkICCw1",
    "outputId": "b5a7a973-2e64-4a3c-ef25-2a4f68a9acee"
   },
   "outputs": [],
   "source": [
    "# This mounts your Google Drive to the Colab VM.\n",
    "from google.colab import drive\n",
    "drive.mount('/content/drive')\n",
    "\n",
    "# TODO: Enter the foldername in your Drive where you have saved the unzipped\n",
    "FOLDERNAME =  \"YOUR-PATH-HERE\"\n",
    "assert FOLDERNAME is not None, \"[!] Enter the foldername.\"\n",
    "\n",
    "# Now that we've mounted your Drive, this ensures that\n",
    "# the Python interpreter of the Colab VM can load\n",
    "# python files from within it.\n",
    "import sys\n",
    "sys.path.append('/content/drive/My Drive/{}'.format(FOLDERNAME))\n",
    "%cd /content/drive/My\\ Drive/$FOLDERNAME/\n",
    "!ls\n"
   ]
  },
  {
   "cell_type": "code",
   "execution_count": null,
   "metadata": {
    "colab": {
     "base_uri": "https://localhost:8080/",
     "height": 1000
    },
    "executionInfo": {
     "elapsed": 241439,
     "status": "ok",
     "timestamp": 1747415442812,
     "user": {
      "displayName": "Giannis Pastellas",
      "userId": "07288953992510669495"
     },
     "user_tz": -180
    },
    "id": "UtVg5QeeFyIO",
    "outputId": "7277db27-dda7-498e-c10e-0a3f31b75188"
   },
   "outputs": [],
   "source": [
    "!pip install -r requirements.txt\n",
    "!pip install torchtext==0.17.1 bert-score  # Make sure torchtext is installed\n",
    "#!pip install transformers datasets peft nltk rouge-score bert-score"
   ]
  },
  {
   "cell_type": "code",
   "execution_count": null,
   "metadata": {
    "colab": {
     "background_save": true,
     "base_uri": "https://localhost:8080/"
    },
    "id": "WdHdN8W-CNnw"
   },
   "outputs": [],
   "source": [
    "# Then use paths to your drive\n",
    "!python finetune.py --dataset-name xsum --max-samples 100000 --text-column document --summary-column summary --model facebook/bart-large-cnn --batch-size 16 --num-epochs 5 --learning-rate 5e-05 --lora-r 16 --lora-alpha 32 --lora-dropout 0.05 --weight-decay 0.01 --use-wandb --wandb-project news-summarizer-xsum"
   ]
  },
  {
   "cell_type": "code",
   "execution_count": null,
   "metadata": {
    "id": "F8OjM6iOIp4X"
   },
   "outputs": [],
   "source": []
  }
 ],
 "metadata": {
  "accelerator": "GPU",
  "colab": {
   "authorship_tag": "ABX9TyMT1VVkSovsmidLQ41nmpsY",
   "gpuType": "T4",
   "name": "",
   "version": ""
  },
  "kernelspec": {
   "display_name": "Python 3",
   "name": "python3"
  },
  "language_info": {
   "name": "python"
  }
 },
 "nbformat": 4,
 "nbformat_minor": 0
}
